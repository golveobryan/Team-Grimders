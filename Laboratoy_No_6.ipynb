{
  "nbformat": 4,
  "nbformat_minor": 0,
  "metadata": {
    "colab": {
      "name": "Laboratoy_No_6.ipynb",
      "provenance": [],
      "authorship_tag": "ABX9TyNJlJrgbLeWSoOopG7Xr29V",
      "include_colab_link": true
    },
    "kernelspec": {
      "name": "python3",
      "display_name": "Python 3"
    },
    "language_info": {
      "name": "python"
    }
  },
  "cells": [
    {
      "cell_type": "markdown",
      "metadata": {
        "id": "view-in-github",
        "colab_type": "text"
      },
      "source": [
        "<a href=\"https://colab.research.google.com/github/golveobryan/Team-Grimders/blob/main/Laboratoy_No_6.ipynb\" target=\"_parent\"><img src=\"https://colab.research.google.com/assets/colab-badge.svg\" alt=\"Open In Colab\"/></a>"
      ]
    },
    {
      "cell_type": "code",
      "source": [
        "from tkinter import *\n",
        "from tkinter import ttk\n",
        "\n",
        "window = Tk()\n",
        "window.geometry(\"400x200+10+20\")\n",
        "window.title(\"Grade Calculator\")\n",
        "\n",
        "\n",
        "class MyWindow:\n",
        "    def __init__(self, window):\n",
        "        self.lbl0 = Label(window, text=\"Semestral Grade Calculator:\")\n",
        "        self.lbl0.grid(row=0, column=0)\n",
        "        self.lbl1 = Label(window, text=\"Enter Prelim Grade:\")\n",
        "        self.lbl1.grid(row=1, column=0)\n",
        "        self.txtfld2 = Entry(window, bd=3, justify=\"center\")\n",
        "        self.txtfld2.grid(row=1, column=1, padx=2)\n",
        "        self.lbl3 = Label(window, text=\"Enter Midterm Grade\")\n",
        "        self.lbl3.grid(row=2, column=0)\n",
        "        self.txtfld3 = Entry(window, bd=3, justify=\"center\")\n",
        "        self.txtfld3.grid(row=2, column=1, padx=2)\n",
        "        self.lbl3 = Label(window, text=\"Enter Finals Grade\")\n",
        "        self.lbl3.grid(row=3, column=0)\n",
        "        self.txtfld4 = Entry(window, bd=3, justify=\"center\")\n",
        "        self.txtfld4.grid(row=3, column=1, padx=2)\n",
        "        self.btn1 = Button(window, text=\"Compute\", command=self.compute)\n",
        "        self.btn1.grid(row=4, column=0, padx=2)\n",
        "        self.lbl5 = Label(window, text=\"Result:\")\n",
        "        self.lbl5.grid(row=6, column=0)\n",
        "        self.txtfld6 = Entry(window, bd=3)\n",
        "        self.txtfld6.grid(row=6, column=1)\n",
        "\n",
        "    def compute(self):\n",
        "        self.txtfld6.delete(0, 'end')\n",
        "        num1 = float(self.txtfld2.get())\n",
        "        num2 = float(self.txtfld3.get())\n",
        "        num3 = float(self.txtfld4.get())\n",
        "        answer = round((num1 + num2 + num3) / 3, 2)\n",
        "        self.txtfld6.insert(END, answer)\n",
        "\n",
        "\n",
        "mywin = MyWindow(window)\n",
        "\n",
        "window.mainloop()"
      ],
      "metadata": {
        "id": "m2yE_LEcdA2W"
      },
      "execution_count": null,
      "outputs": []
    }
  ]
}